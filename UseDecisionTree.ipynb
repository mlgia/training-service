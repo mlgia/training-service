{
 "cells": [
  {
   "cell_type": "markdown",
   "metadata": {},
   "source": [
    "# PREDICTIVE MODELLING WITH DECISIONTREECLASSIFIER"
   ]
  },
  {
   "cell_type": "code",
   "execution_count": 6,
   "metadata": {},
   "outputs": [],
   "source": [
    "from sklearn.tree import DecisionTreeClassifier\n",
    "import pandas as pd\n",
    "import numpy as np\n",
    "from sklearn.model_selection import StratifiedShuffleSplit\n",
    "from sklearn.externals import joblib"
   ]
  },
  {
   "cell_type": "code",
   "execution_count": 7,
   "metadata": {},
   "outputs": [],
   "source": [
    "# Load data\n",
    "targetNames = [0, 1]\n",
    "headers = [\"Free_parking\",  # 0,1 (No/Yes)\n",
    "           \"Id_Parking\",       \n",
    "           \"Time_zone\",     # 0,1,2,3,4,5,6 (7:00-10:00,10:00-13:00,13:00-16:00,16:00-19:00,19:00-22:00,22:00-00:00,00:00-7:00)\n",
    "           \"Day_of_week\",   # 0,1,2,3,4,5,6 (Monday, Tuesday, Wednesday...)\n",
    "           \"Working_day\"    # 0,1 (No/Yes)\n",
    "          ]\n",
    "\n",
    "dataFrame = pd.read_csv(\"finalDataset.csv\", header = None, sep=',', names = headers)\n",
    "\n",
    "# Assign data and target to X, y variables to be used later on\n",
    "npArray = dataFrame.values\n",
    "\n",
    "# Obtain X exluding the first column\n",
    "idx_OUT_columns = [0]\n",
    "idx_IN_columns = [i for i in range(np.shape(npArray)[1]) if i not in idx_OUT_columns]\n",
    "X = npArray[:,idx_IN_columns]\n",
    "\n",
    "# Obtain y\n",
    "y = dataFrame['Free_parking'].values"
   ]
  },
  {
   "cell_type": "code",
   "execution_count": 8,
   "metadata": {},
   "outputs": [
    {
     "name": "stdout",
     "output_type": "stream",
     "text": [
      "Number of samples and dimensions for XTrain: (59623, 4)\n",
      "Number of labels for yTrain: (59623,)\n",
      "Number of samples and dimensions for XTest: (25553, 4)\n",
      "Number of labels for yTest: (25553,)\n"
     ]
    }
   ],
   "source": [
    "## Split the data into Train, Test sets\n",
    "\n",
    "myStratifiedShuffleSplit = StratifiedShuffleSplit(1, 0.3, random_state = 42)\n",
    "\n",
    "for train_index, test_index in myStratifiedShuffleSplit.split(X, y):\n",
    "    XTrain = X[train_index,:]\n",
    "    XTest = X[test_index,:]\n",
    "    yTrain = y[train_index]\n",
    "    yTest = y[test_index]\n",
    "\n",
    "# Sizes of each data split\n",
    "print(\"Number of samples and dimensions for XTrain: \" +str(XTrain.shape))\n",
    "print(\"Number of labels for yTrain: \" +str(yTrain.shape))\n",
    "print(\"Number of samples and dimensions for XTest: \" +str(XTest.shape))\n",
    "print(\"Number of labels for yTest: \" +str(yTest.shape))"
   ]
  },
  {
   "cell_type": "code",
   "execution_count": 9,
   "metadata": {},
   "outputs": [
    {
     "data": {
      "text/plain": [
       "0.9943255195084726"
      ]
     },
     "execution_count": 9,
     "metadata": {},
     "output_type": "execute_result"
    }
   ],
   "source": [
    "##We use DecisionTree method for training\n",
    "clf = DecisionTreeClassifier(criterion='gini', max_depth=3, min_samples_leaf=1)\n",
    "clf.fit(XTrain, yTrain)\n",
    "clf.score(XTest,yTest)"
   ]
  },
  {
   "cell_type": "code",
   "execution_count": 10,
   "metadata": {},
   "outputs": [
    {
     "data": {
      "text/plain": [
       "['training_model.pkl']"
      ]
     },
     "execution_count": 10,
     "metadata": {},
     "output_type": "execute_result"
    }
   ],
   "source": [
    "## The model is saved in a .pkl file \n",
    "joblib.dump(clf, 'training_model.pkl')"
   ]
  }
 ],
 "metadata": {
  "kernelspec": {
   "display_name": "Python 3",
   "language": "python",
   "name": "python3"
  },
  "language_info": {
   "codemirror_mode": {
    "name": "ipython",
    "version": 3
   },
   "file_extension": ".py",
   "mimetype": "text/x-python",
   "name": "python",
   "nbconvert_exporter": "python",
   "pygments_lexer": "ipython3",
   "version": "3.6.4"
  }
 },
 "nbformat": 4,
 "nbformat_minor": 2
}
